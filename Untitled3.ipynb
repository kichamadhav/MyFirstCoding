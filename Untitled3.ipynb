{
 "cells": [
  {
   "cell_type": "code",
   "execution_count": 2,
   "metadata": {},
   "outputs": [
    {
     "name": "stdout",
     "output_type": "stream",
     "text": [
      "Select Symbol From: ['#', 'X', 'O', '!', '!!', '!!!']\n",
      "Select Multiple Symbols seperated by comma: #,c,y\n",
      "This is not a valid selection\n",
      "Select Symbol From: ['#', 'X', 'O', '!', '!!', '!!!']\n",
      "Select Multiple Symbols seperated by comma: #,#,#,#,#\n",
      "You have selected ['#', '#', '#', '#', '#']\n",
      "Sum of the Selected Symbol: 25\n"
     ]
    }
   ],
   "source": [
    "lst1 = [\"#\",\"X\",\"O\",\"!\",\"!!\",\"!!!\"] #Assiging the List of Symbols\n",
    "lst2 = [5, 3, 1, -1, -3, -5] # Assigning the List of Values\n",
    "dict1 = dict(zip(lst1,lst2)) # Assigning Value to the Symbols by converting the two list to dictionary\n",
    "lst4 =[] # Empty List to Match Values of Symbols in Lst3\n",
    "b = 1\n",
    "while b!= 0:\n",
    "    print(\"Select Symbol From: {}\".format(lst1))\n",
    "    lst3 = [str(x) for x in input(\"Select Multiple Symbols seperated by comma: \").split(\",\")]\n",
    "    y = all(x in lst1 for x in lst3)\n",
    "    if y == False:\n",
    "        print('This is not a valid selection')\n",
    "        continue\n",
    "    elif y == True:\n",
    "        a = len(lst3)\n",
    "        while a >=1:\n",
    "            for k in lst3:\n",
    "                if k in dict1:\n",
    "                    lst4.append(dict1.get(k))\n",
    "                    a = a-1\n",
    "                if sum(lst4)>=0 :\n",
    "                    result = sum(lst4)\n",
    "                else:\n",
    "                    result = 0\n",
    "            b = b - 1\n",
    "        print('You have selected {}'.format(lst3))\n",
    "        print(\"Sum of the Selected Symbol: {}\".format(result))"
   ]
  },
  {
   "cell_type": "code",
   "execution_count": null,
   "metadata": {},
   "outputs": [],
   "source": []
  }
 ],
 "metadata": {
  "kernelspec": {
   "display_name": "Python 3",
   "language": "python",
   "name": "python3"
  },
  "language_info": {
   "codemirror_mode": {
    "name": "ipython",
    "version": 3
   },
   "file_extension": ".py",
   "mimetype": "text/x-python",
   "name": "python",
   "nbconvert_exporter": "python",
   "pygments_lexer": "ipython3",
   "version": "3.8.3"
  }
 },
 "nbformat": 4,
 "nbformat_minor": 4
}
